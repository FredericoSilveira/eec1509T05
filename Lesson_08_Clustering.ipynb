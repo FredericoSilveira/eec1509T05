{
  "nbformat": 4,
  "nbformat_minor": 0,
  "metadata": {
    "colab": {
      "name": "Lesson 08 -  Clustering.ipynb",
      "version": "0.3.2",
      "provenance": [],
      "collapsed_sections": []
    },
    "kernelspec": {
      "name": "python3",
      "display_name": "Python 3"
    },
    "accelerator": "GPU"
  },
  "cells": [
    {
      "metadata": {
        "id": "pqoTb9ogAlus",
        "colab_type": "text"
      },
      "cell_type": "markdown",
      "source": [
        "# 1.0 Clustering Basic"
      ]
    },
    {
      "metadata": {
        "id": "N6MdVjNASKyu",
        "colab_type": "text"
      },
      "cell_type": "markdown",
      "source": [
        "## 1.1 Introduction\n",
        "\n"
      ]
    },
    {
      "metadata": {
        "id": "DnAlx5i257O_",
        "colab_type": "text"
      },
      "cell_type": "markdown",
      "source": [
        "\n",
        "So far, we've looked at regression and classification. These are both types of [supervised machine learning](https://en.wikipedia.org/wiki/Supervised_learning). In supervised learning, you train an algorithm to predict an unknown variable from known variables.\n",
        "\n",
        "Another major type of machine learning is called [unsupervised learning](https://en.wikipedia.org/wiki/Unsupervised_learning). In unsupervised learning, we aren't trying to predict anything. Instead, we're finding patterns in data.\n",
        "\n",
        "One of the main unsupervised learning techniques is called **clustering**. We use clustering when we're trying to explore a dataset, and understand the connections between the various rows and columns. For example, we can cluster NBA players based on their statistics. Here's how such a clustering might look:\n",
        "\n",
        "<center><img width=\"600\" alt=\"creating a repo\" src=\"https://drive.google.com/uc?export=view&id=1NUuctg1HZwvCQlFJTAYzsqgrhlDpi5VB\"></center>\n",
        "\n",
        "\n",
        "**The clusters made it possible to discover player roles that might not have been noticed otherwise**. [Here's](https://flowingdata.com/2012/03/21/redefining-nba-basketball-positions/) an article that describes how the clusters were created.\n",
        "\n",
        "Clustering algorithms group similar rows together. There can be one or more groups in the data, and these groups form the clusters. As we look at the clusters, we can start to better understand the structure of the data.\n",
        "\n",
        "Clustering is a key way to explore unknown data, and it's a very commonly used machine learning technique. In this lesson we'll work on **clustering US Senators based on how they voted.**"
      ]
    },
    {
      "metadata": {
        "id": "UahH2amJSKyw",
        "colab_type": "text"
      },
      "cell_type": "markdown",
      "source": [
        "## 1.1 The dataset\n"
      ]
    },
    {
      "metadata": {
        "id": "N7hXTJ1059OH",
        "colab_type": "text"
      },
      "cell_type": "markdown",
      "source": [
        "\n",
        "\n",
        "In the US, the **Senate votes on proposed legislation**. Getting a bill passed by the Senate is a key step towards getting its provisions enacted. A **majority vote is required** to get a bill passed.\n",
        "\n",
        "The results of these votes, known as roll call votes, are public, and available in a few places, including [here](https://github.com/unitedstates/congress). Read more about the US legislative system [here](https://en.wikipedia.org/wiki/Federal_government_of_the_United_States#Legislative_branch).\n",
        "\n",
        "**Senators typically vote in accordance with how their political party votes**, known as voting along party lines. In the US, the 2 main political parties are the [Democrats](https://en.wikipedia.org/wiki/Democratic_Party), who tend to be [liberal](https://en.wikipedia.org/wiki/Liberalism), and the [Republicans](https://en.wikipedia.org/wiki/Republican_Party), who tend to be [conservative](https://en.wikipedia.org/wiki/Conservatism). **Senators** can also choose to be unaffiliated with a party, and vote as **Independents**, although very few choose to do so.\n",
        "\n",
        "**114_congress.csv** contains all of the results of roll call votes from the **114th Senate**. Each row represents a single Senator, and each column represents a vote. A 0 in a cell means the Senator voted No on the bill, 1 means the Senator voted Yes, and 0.5 means the Senator abstained.\n",
        "\n",
        "Here are the relevant columns:\n",
        "\n",
        "- **name** -- The last name of the Senator.\n",
        "- **party** -- the party of the Senator. The valid values are __D__ for Democrat, __R__ for Republican, and __I__ for Independent.\n",
        "- Several columns numbered like **00001**, **00004**, etc. Each of these columns represents the results of a single roll call vote.\n",
        "\n",
        "Below are the first three rows of the data. As you can see, the number of each bill is used as the column heading for its votes:\n",
        "\n",
        "```python\n",
        "name,party,state,00001,00004,00005,00006,00007,00008,00009,00010,00020,00026,00032,00038,00039,00044,00047\n",
        "Alexander,R,TN,0,1,1,1,1,0,0,1,1,1,0,0,0,0,0\n",
        "Ayotte,R,NH,0,1,1,1,1,0,0,1,0,1,0,1,0,1,0\n",
        "```\n",
        "\n",
        "**Clustering voting data of Senators is particularly interesting because it can expose patterns that go deeper than party affiliation**. For example, some Republicans are more liberal than the rest of their party. Looking at voting data can help us discover the Senators who are more or less in the mainstream of their party.\n",
        "\n",
        "**Exercise Start**\n",
        "\n",
        "<img width=\"100\" alt=\"creating a repo\" src=\"https://drive.google.com/uc?export=view&id=1E8tR7B9YYUXsU_rddJAyq0FrM0MSelxZ\">\n",
        "\n",
        "- Import the Pandas library.\n",
        "- Use the **read_csv()** method in Pandas to read **114_congress.csv** into the variable **votes**.\n"
      ]
    },
    {
      "metadata": {
        "id": "h227-Os7-DLP",
        "colab_type": "code",
        "colab": {}
      },
      "cell_type": "code",
      "source": [
        "# put your code here\n",
        "import pandas as pd\n",
        "\n",
        "votes = pd.read_csv('114_congress.csv')\n",
        "\n"
      ],
      "execution_count": 0,
      "outputs": []
    },
    {
      "metadata": {
        "id": "0_oOZZp57-RK",
        "colab_type": "code",
        "outputId": "5031ae0d-8ebd-4595-8aed-01fc655bedd2",
        "colab": {
          "base_uri": "https://localhost:8080/",
          "height": 238
        }
      },
      "cell_type": "code",
      "source": [
        "print(votes.head())"
      ],
      "execution_count": 0,
      "outputs": [
        {
          "output_type": "stream",
          "text": [
            "        name party state  00001  00004  00005  00006  00007  00008  00009  \\\n",
            "0  Alexander     R    TN    0.0    1.0    1.0    1.0    1.0    0.0    0.0   \n",
            "1     Ayotte     R    NH    0.0    1.0    1.0    1.0    1.0    0.0    0.0   \n",
            "2    Baldwin     D    WI    1.0    0.0    0.0    1.0    0.0    1.0    0.0   \n",
            "3   Barrasso     R    WY    0.0    1.0    1.0    1.0    1.0    0.0    1.0   \n",
            "4     Bennet     D    CO    0.0    0.0    0.0    1.0    0.0    1.0    0.0   \n",
            "\n",
            "   00010  00020  00026  00032  00038  00039  00044  00047  \n",
            "0    1.0    1.0    1.0    0.0    0.0    0.0    0.0    0.0  \n",
            "1    1.0    0.0    1.0    0.0    1.0    0.0    1.0    0.0  \n",
            "2    1.0    0.0    0.0    1.0    1.0    0.0    1.0    1.0  \n",
            "3    1.0    1.0    1.0    0.0    0.0    1.0    0.0    0.0  \n",
            "4    1.0    0.0    0.0    0.0    1.0    0.0    1.0    0.0  \n"
          ],
          "name": "stdout"
        }
      ]
    },
    {
      "metadata": {
        "id": "aG7vBZWC_nmy",
        "colab_type": "text"
      },
      "cell_type": "markdown",
      "source": [
        "## 1.2 Exploring the data"
      ]
    },
    {
      "metadata": {
        "id": "_KPlzNoL_un0",
        "colab_type": "text"
      },
      "cell_type": "markdown",
      "source": [
        "Now that we've read the data in, let's do some initial exploration of the data.\n",
        "\n",
        "**Exercise Start**\n",
        "\n",
        "<img width=\"100\" alt=\"creating a repo\" src=\"https://drive.google.com/uc?export=view&id=1E8tR7B9YYUXsU_rddJAyq0FrM0MSelxZ\">\n",
        "\n",
        "\n",
        "- Find how many Senators are in each party.\n",
        "  - Use the **value_counts()** method on the **party** column of **votes**. Print the results.\n",
        "- Find what the \"average\" vote for each bill was.\n",
        "  - Use the **mean()** method on the **votes** Dataframe. If the mean for a column is less than .5, more Senators voted against the bill, and vice versa if it's over .5. Print the results.\n"
      ]
    },
    {
      "metadata": {
        "id": "BLpL38o9A0kR",
        "colab_type": "code",
        "outputId": "2f524643-212d-4b19-9b15-056587f9240e",
        "colab": {
          "base_uri": "https://localhost:8080/",
          "height": 357
        }
      },
      "cell_type": "code",
      "source": [
        "# put your code here\n",
        "print(votes['party'].value_counts())\n",
        "average = votes.iloc[:,3:].mean()\n",
        "print(average)"
      ],
      "execution_count": 0,
      "outputs": [
        {
          "output_type": "stream",
          "text": [
            "R    54\n",
            "D    44\n",
            "I     2\n",
            "Name: party, dtype: int64\n",
            "00001    0.325\n",
            "00004    0.575\n",
            "00005    0.535\n",
            "00006    0.945\n",
            "00007    0.545\n",
            "00008    0.415\n",
            "00009    0.545\n",
            "00010    0.985\n",
            "00020    0.525\n",
            "00026    0.545\n",
            "00032    0.410\n",
            "00038    0.480\n",
            "00039    0.510\n",
            "00044    0.460\n",
            "00047    0.370\n",
            "dtype: float64\n"
          ],
          "name": "stdout"
        }
      ]
    },
    {
      "metadata": {
        "id": "Kf8iH0QlSKy6",
        "colab_type": "text"
      },
      "cell_type": "markdown",
      "source": [
        "## 1.3 Distance between Senators\n"
      ]
    },
    {
      "metadata": {
        "id": "XvlkmFkVA4x-",
        "colab_type": "text"
      },
      "cell_type": "markdown",
      "source": [
        "To group Senators together, we need some way to figure out how \"close\" the Senators are to each other. **We'll then group together the Senators that are the closest**. We can actually discover this distance mathematically, by finding how similar the votes of two Senators are. The closer together the voting records of two Senators, the more ideologically similar they are (voting the same way indicates that you share the same views).\n",
        "\n",
        "To find the distance between two rows, we can use [Euclidean distance](https://en.wikipedia.org/wiki/Euclidean_distance). The formula is:\n",
        "\n",
        "$$d=\\sqrt{(q_1-p_1)^2+(q_2-p_2)^2+\\ldots+(q_n-p_n)^2}$$\n",
        "\n",
        "Let's say we have two Senator's voting records:\n",
        "\n",
        "```python\n",
        "name,party,state,00001,00004,00005,00006,00007,00008,00009,00010,00020,00026,00032,00038,00039,00044,00047\n",
        "Alexander,R,TN,0,1,1,1,1,0,0,1,1,1,0,0,0,0,0\n",
        "Ayotte,R,NH,0,1,1,1,1,0,0,1,0,1,0,1,0,1,0\n",
        "```\n",
        "\n",
        "If we took only the numeric vote columns, we'd have this:\n",
        "\n",
        "```python\n",
        "00001,00004,00005,00006,00007,00008,00009,00010,00020,00026,00032,00038,00039,00044,00047\n",
        "0,1,1,1,1,0,0,1,1,1,0,0,0,0,0\n",
        "0,1,1,1,1,0,0,1,0,1,0,1,0,1,0\n",
        "```\n",
        "\n",
        "If we wanted to compute the Euclidean distance, we'd plug the vote numbers into our formula:\n",
        "\n",
        "$$d=\\sqrt{(0-0)^2+(1-1)^2+(1-1)^2+(1-1)^2+(1-1)^2+(0-0)^2+\\ldots+(0-0)^2}$$\n",
        "\n",
        "As you can see, these Senators are very similar! If you look at the votes above, they only disagree on 3 bills. The final Euclidean distance between these two Senators is **1.73**.\n",
        "\n",
        "To compute Euclidean distance in Python, we can use the [euclidean_distances()](http://scikit-learn.org/stable/modules/generated/sklearn.metrics.pairwise.euclidean_distances.html) method in the [scikit-learn](http://scikit-learn.org/stable/) library. The code below will find the Euclidean distance between the Senator in the first row and the Senator in the second row.\n",
        "\n",
        "```python\n",
        "euclidean_distances(votes.iloc[0,3:], votes.iloc[1,3:])\n",
        "```\n",
        "\n",
        "It's necessary to only select columns after the first 3 because the first 3 are name, party, and state, which aren't numeric.\n",
        "\n",
        "**Exercise Start**\n",
        "\n",
        "<img width=\"100\" alt=\"creating a repo\" src=\"https://drive.google.com/uc?export=view&id=1E8tR7B9YYUXsU_rddJAyq0FrM0MSelxZ\">\n",
        "\n",
        "- Compute the **Euclidean distance** between the **first row** and the **third row**.\n",
        "  - Assign the result to **distance**.\n",
        "  - tip: use series.values.reshape(1,-1) in euclidean_distance parameters"
      ]
    },
    {
      "metadata": {
        "id": "yKw8BZztCizL",
        "colab_type": "code",
        "outputId": "56d1f89b-4781-4f41-f64d-c8ae3a8affea",
        "colab": {
          "base_uri": "https://localhost:8080/",
          "height": 88
        }
      },
      "cell_type": "code",
      "source": [
        "# put your code here\n",
        "from sklearn.metrics.pairwise import euclidean_distances\n",
        "\n",
        "distance = euclidean_distances(votes.iloc[0,3:].values.reshape(1,-1), votes.iloc[2,3:].reshape(1,-1))\n",
        "print(distance)"
      ],
      "execution_count": 0,
      "outputs": [
        {
          "output_type": "stream",
          "text": [
            "[[3.31662479]]\n"
          ],
          "name": "stdout"
        },
        {
          "output_type": "stream",
          "text": [
            "/usr/local/lib/python3.6/dist-packages/ipykernel_launcher.py:3: FutureWarning: reshape is deprecated and will raise in a subsequent release. Please use .values.reshape(...) instead\n",
            "  This is separate from the ipykernel package so we can avoid doing imports until\n"
          ],
          "name": "stderr"
        }
      ]
    },
    {
      "metadata": {
        "id": "IHKbZM6XSKy-",
        "colab_type": "text"
      },
      "cell_type": "markdown",
      "source": [
        "## 1.4 Initial clustering\n"
      ]
    },
    {
      "metadata": {
        "id": "mIY_5qbHFZUe",
        "colab_type": "text"
      },
      "cell_type": "markdown",
      "source": [
        "\n",
        "\n",
        "We'll use an algorithm called [k-means clustering](https://en.wikipedia.org/wiki/K-means_clustering) to split our data into clusters. k-means clustering uses Euclidean distance to form clusters of similar Senators. We'll dive more into the theory of k-means clustering and build the algorithm from the ground up in the later section. For now, it's important to understand clustering at a high level, so we'll leverage the [scikit-learn](http://scikit-learn.org/stable/) library to train a **k-means model.**\n",
        "\n",
        "The **k-means** algorithm will **group Senators who vote similarly** on bills together, in clusters. Each cluster is assigned a center, and the Euclidean distance from each Senator to the center is computed. Senators are assigned to clusters based on which one they are closest to. **From our background knowledge, we think that Senators will cluster along party lines**.\n",
        "\n",
        "The k-means algorithm requires us to specify the number of clusters upfront. Because we suspect that clusters will occur along party lines, and the vast majority of Senators are either Republicans or Democrats, we'll pick 2 for our number of clusters.\n",
        "\n",
        "We'll use the [KMeans](http://scikit-learn.org/stable/modules/generated/sklearn.cluster.KMeans.html) class from scikit-learn to perform the clustering. **Because we aren't predicting anything, there's no risk of overfitting, so we'll train our model on the whole dataset.** After training, we'll be able to extract cluster labels that indicate what cluster each Senator belongs to.\n",
        "\n",
        "We can initialize the model like this:\n",
        "\n",
        "```python\n",
        "kmeans_model = KMeans(n_clusters=2, random_state=1)\n",
        "```\n",
        "\n",
        "The above code will initialize the k-means model with 2 clusters, and a random state of 1 to allow for the same results to be reproduced whenever the algorithm is run.\n",
        "\n",
        "We'll then be able to use the [fit_transform()](http://scikit-learn.org/stable/modules/generated/sklearn.cluster.KMeans.html#sklearn.cluster.KMeans.fit_transform) method to fit the model to **votes** and get the distance of each Senator to each cluster. The result will look like this:\n",
        "\n",
        "```python\n",
        "array([[ 3.12141628,  1.3134775 ],\n",
        "   [ 2.6146248 ,  2.05339992],\n",
        "   [ 0.33960656,  3.41651746],\n",
        "   [ 3.42004795,  0.24198446],\n",
        "   [ 1.43833966,  2.96866004],\n",
        "   [ 0.33960656,  3.41651746],\n",
        "   [ 3.42004795,  0.24198446],\n",
        "   [ 0.33960656,  3.41651746],\n",
        "   [ 3.42004795,  0.24198446],\n",
        "   [ 0.31287498,  3.30758755],\n",
        "   ...\n",
        "```\n",
        "\n",
        "This is a NumPy array with two columns. The first column is the Euclidean distance from each Senator to the first cluster, and the second column is the Euclidean distance to the the second cluster. The values in the columns will indicate how \"far\" the Senator is from each cluster. The further away from the cluster, the less the Senator's voting history aligns with the voting history of the cluster.\n",
        "\n",
        "\n",
        "**Exercise Start**\n",
        "\n",
        "<img width=\"100\" alt=\"creating a repo\" src=\"https://drive.google.com/uc?export=view&id=1E8tR7B9YYUXsU_rddJAyq0FrM0MSelxZ\">\n",
        "\n",
        "- Use the **fit_transform()** method to fit **kmeans_model** on the **votes** DataFrame. Only select columns after the first 3 from **votes** when fitting.\n",
        "- Assign the result to **senator_distances.**"
      ]
    },
    {
      "metadata": {
        "id": "Q2Ey82QNHZ8_",
        "colab_type": "code",
        "colab": {}
      },
      "cell_type": "code",
      "source": [
        "# put your code here\n",
        "from sklearn.cluster import KMeans\n",
        "\n",
        "kmeans_model = KMeans(n_clusters=2, random_state=1)\n",
        "\n",
        "senator_distances = kmeans_model.fit_transform(votes.iloc[:,3:])"
      ],
      "execution_count": 0,
      "outputs": []
    },
    {
      "metadata": {
        "id": "ktr13DOCSKzB",
        "colab_type": "text"
      },
      "cell_type": "markdown",
      "source": [
        "## 1.5. Exploring the clusters\n"
      ]
    },
    {
      "metadata": {
        "id": "Y__8i_zcHlDf",
        "colab_type": "text"
      },
      "cell_type": "markdown",
      "source": [
        "\n",
        "\n",
        "We can use the Pandas method [crosstab()](http://pandas.pydata.org/pandas-docs/version/0.17.1/generated/pandas.crosstab.html) to compute and display how many Senators from each party ended up in each cluster. The **crosstab()** method takes in two vectors or Pandas Series and computes how many times each unique value in the second vector occurs for each unique value in the first vector.\n",
        "\n",
        "Here's an example:\n",
        "\n",
        "```python\n",
        "is_smoker =       [0,1,1,0,0,1]\n",
        "has_lung_cancer = [1,0,1,0,1,0]\n",
        "\n",
        "pd.crosstab(np.array(has_lung_cancer),np.array(is_smoker),\n",
        "          colnames=[\"has_lung_cancer\"],rownames=[\"is_smoker\"])\n",
        "\n",
        "```\n",
        "\n",
        "A 0 means False, and a 1 means True. A crosstab for the two above lists would look like this:\n",
        "\n",
        "```python\n",
        "has_lung_cancer    0     1\n",
        "smoker\n",
        "0                  1     2\n",
        "1                  2     1\n",
        "```\n",
        "\n",
        "We can extract the cluster labels for each Senator from **kmeans_model** using **kmeans_model.labels_**, then we can make a table comparing these labels to **votes[\"party\"]** with crosstab(). This will show us if the clusters tend to break down along party lines or not.\n",
        "\n",
        "\n",
        "**Exercise Start**\n",
        "\n",
        "<img width=\"100\" alt=\"creating a repo\" src=\"https://drive.google.com/uc?export=view&id=1E8tR7B9YYUXsU_rddJAyq0FrM0MSelxZ\">\n",
        "\n",
        "- Use the **labels_** attribute to extract the labels from **kmeans_model**. Assign the result to the variable **labels**.\n",
        "- Use the **crosstab()** method to print out a table comparing labels to **votes[\"party\"]**, in that order."
      ]
    },
    {
      "metadata": {
        "id": "ROa_3rtwLB__",
        "colab_type": "code",
        "outputId": "4fdf3e27-fdc0-4c24-a256-ca3ffe31d5fa",
        "colab": {
          "base_uri": "https://localhost:8080/",
          "height": 142
        }
      },
      "cell_type": "code",
      "source": [
        "# put your code here\n",
        "\n",
        "labels = kmeans_model.labels_\n",
        "\n",
        "pd.crosstab(labels, votes[\"party\"])"
      ],
      "execution_count": 0,
      "outputs": [
        {
          "output_type": "execute_result",
          "data": {
            "text/html": [
              "<div>\n",
              "<style scoped>\n",
              "    .dataframe tbody tr th:only-of-type {\n",
              "        vertical-align: middle;\n",
              "    }\n",
              "\n",
              "    .dataframe tbody tr th {\n",
              "        vertical-align: top;\n",
              "    }\n",
              "\n",
              "    .dataframe thead th {\n",
              "        text-align: right;\n",
              "    }\n",
              "</style>\n",
              "<table border=\"1\" class=\"dataframe\">\n",
              "  <thead>\n",
              "    <tr style=\"text-align: right;\">\n",
              "      <th>party</th>\n",
              "      <th>D</th>\n",
              "      <th>I</th>\n",
              "      <th>R</th>\n",
              "    </tr>\n",
              "    <tr>\n",
              "      <th>row_0</th>\n",
              "      <th></th>\n",
              "      <th></th>\n",
              "      <th></th>\n",
              "    </tr>\n",
              "  </thead>\n",
              "  <tbody>\n",
              "    <tr>\n",
              "      <th>0</th>\n",
              "      <td>41</td>\n",
              "      <td>2</td>\n",
              "      <td>0</td>\n",
              "    </tr>\n",
              "    <tr>\n",
              "      <th>1</th>\n",
              "      <td>3</td>\n",
              "      <td>0</td>\n",
              "      <td>54</td>\n",
              "    </tr>\n",
              "  </tbody>\n",
              "</table>\n",
              "</div>"
            ],
            "text/plain": [
              "party   D  I   R\n",
              "row_0           \n",
              "0      41  2   0\n",
              "1       3  0  54"
            ]
          },
          "metadata": {
            "tags": []
          },
          "execution_count": 21
        }
      ]
    },
    {
      "metadata": {
        "id": "8VQ1jQyvSKzF",
        "colab_type": "text"
      },
      "cell_type": "markdown",
      "source": [
        "## 1.6. Exploring Senators in the wrong cluster\n"
      ]
    },
    {
      "metadata": {
        "id": "LxFL_jqxLN0n",
        "colab_type": "text"
      },
      "cell_type": "markdown",
      "source": [
        "\n",
        "\n",
        "It looks like both of our clusters mostly broke down along party lines. The first cluster contains **41** Democrats, and **two** Independents. The second cluster contains **3** Democrats, and **54** Republicans.\n",
        "\n",
        "No Republicans seem to have broken party ranks to vote with the Democrats, but **3** Democrats are more similar to Republicans in their voting than their own party. Let's explore these **3** in more depth so we can figure out why that is.\n",
        "\n",
        "We can do this by subsetting votes to only select rows where the party column is **D**, and the labels variable is **1**, indicating that the Senator is in the second cluster.\n",
        "\n",
        "We can perform this subsetting with Pandas. The below code will select all Independents in the first cluster:\n",
        "\n",
        "```python\n",
        "votes[(labels == 0) & (votes[\"party\"] == \"I\")]\n",
        "```\n",
        "\n",
        "When subsetting a DataFrame with multiple conditions, each condition needs to be in parentheses, and separated by **&**.\n",
        "\n",
        "**Exercise Start**\n",
        "\n",
        "<img width=\"100\" alt=\"creating a repo\" src=\"https://drive.google.com/uc?export=view&id=1E8tR7B9YYUXsU_rddJAyq0FrM0MSelxZ\">\n",
        "\n",
        "\n",
        "- Select all senators who were assigned to the second cluster that were Democrats. Assign the subset to **democratic_outliers**.\n",
        "- Print out **democratic_outliers.**"
      ]
    },
    {
      "metadata": {
        "id": "xhXmWEpYNjLN",
        "colab_type": "code",
        "outputId": "d8847c4b-1134-4f9d-9edc-0461f263b3c5",
        "colab": {
          "base_uri": "https://localhost:8080/",
          "height": 142
        }
      },
      "cell_type": "code",
      "source": [
        "#put your code here\n",
        "democratic_outliers = votes[(votes[\"party\"] == \"D\") & (labels == 1)]\n",
        "\n",
        "democratic_outliers.head()"
      ],
      "execution_count": 0,
      "outputs": [
        {
          "output_type": "execute_result",
          "data": {
            "text/html": [
              "<div>\n",
              "<style scoped>\n",
              "    .dataframe tbody tr th:only-of-type {\n",
              "        vertical-align: middle;\n",
              "    }\n",
              "\n",
              "    .dataframe tbody tr th {\n",
              "        vertical-align: top;\n",
              "    }\n",
              "\n",
              "    .dataframe thead th {\n",
              "        text-align: right;\n",
              "    }\n",
              "</style>\n",
              "<table border=\"1\" class=\"dataframe\">\n",
              "  <thead>\n",
              "    <tr style=\"text-align: right;\">\n",
              "      <th></th>\n",
              "      <th>name</th>\n",
              "      <th>party</th>\n",
              "      <th>state</th>\n",
              "      <th>00001</th>\n",
              "      <th>00004</th>\n",
              "      <th>00005</th>\n",
              "      <th>00006</th>\n",
              "      <th>00007</th>\n",
              "      <th>00008</th>\n",
              "      <th>00009</th>\n",
              "      <th>00010</th>\n",
              "      <th>00020</th>\n",
              "      <th>00026</th>\n",
              "      <th>00032</th>\n",
              "      <th>00038</th>\n",
              "      <th>00039</th>\n",
              "      <th>00044</th>\n",
              "      <th>00047</th>\n",
              "    </tr>\n",
              "  </thead>\n",
              "  <tbody>\n",
              "    <tr>\n",
              "      <th>42</th>\n",
              "      <td>Heitkamp</td>\n",
              "      <td>D</td>\n",
              "      <td>ND</td>\n",
              "      <td>0.0</td>\n",
              "      <td>1.0</td>\n",
              "      <td>0.0</td>\n",
              "      <td>1.0</td>\n",
              "      <td>0.0</td>\n",
              "      <td>0.0</td>\n",
              "      <td>1.0</td>\n",
              "      <td>1.0</td>\n",
              "      <td>0.0</td>\n",
              "      <td>0.0</td>\n",
              "      <td>0.0</td>\n",
              "      <td>1.0</td>\n",
              "      <td>0.0</td>\n",
              "      <td>0.0</td>\n",
              "      <td>0.0</td>\n",
              "    </tr>\n",
              "    <tr>\n",
              "      <th>56</th>\n",
              "      <td>Manchin</td>\n",
              "      <td>D</td>\n",
              "      <td>WV</td>\n",
              "      <td>0.0</td>\n",
              "      <td>1.0</td>\n",
              "      <td>0.0</td>\n",
              "      <td>1.0</td>\n",
              "      <td>0.0</td>\n",
              "      <td>0.0</td>\n",
              "      <td>1.0</td>\n",
              "      <td>1.0</td>\n",
              "      <td>1.0</td>\n",
              "      <td>0.0</td>\n",
              "      <td>0.0</td>\n",
              "      <td>1.0</td>\n",
              "      <td>1.0</td>\n",
              "      <td>0.0</td>\n",
              "      <td>0.0</td>\n",
              "    </tr>\n",
              "    <tr>\n",
              "      <th>74</th>\n",
              "      <td>Reid</td>\n",
              "      <td>D</td>\n",
              "      <td>NV</td>\n",
              "      <td>0.5</td>\n",
              "      <td>0.5</td>\n",
              "      <td>0.5</td>\n",
              "      <td>0.5</td>\n",
              "      <td>0.5</td>\n",
              "      <td>0.5</td>\n",
              "      <td>0.5</td>\n",
              "      <td>0.5</td>\n",
              "      <td>0.5</td>\n",
              "      <td>0.5</td>\n",
              "      <td>0.5</td>\n",
              "      <td>0.5</td>\n",
              "      <td>0.5</td>\n",
              "      <td>0.5</td>\n",
              "      <td>0.5</td>\n",
              "    </tr>\n",
              "  </tbody>\n",
              "</table>\n",
              "</div>"
            ],
            "text/plain": [
              "        name party state  00001  00004  00005  00006  00007  00008  00009  \\\n",
              "42  Heitkamp     D    ND    0.0    1.0    0.0    1.0    0.0    0.0    1.0   \n",
              "56   Manchin     D    WV    0.0    1.0    0.0    1.0    0.0    0.0    1.0   \n",
              "74      Reid     D    NV    0.5    0.5    0.5    0.5    0.5    0.5    0.5   \n",
              "\n",
              "    00010  00020  00026  00032  00038  00039  00044  00047  \n",
              "42    1.0    0.0    0.0    0.0    1.0    0.0    0.0    0.0  \n",
              "56    1.0    1.0    0.0    0.0    1.0    1.0    0.0    0.0  \n",
              "74    0.5    0.5    0.5    0.5    0.5    0.5    0.5    0.5  "
            ]
          },
          "metadata": {
            "tags": []
          },
          "execution_count": 29
        }
      ]
    },
    {
      "metadata": {
        "id": "UOLDd1F6Nsjg",
        "colab_type": "text"
      },
      "cell_type": "markdown",
      "source": [
        "## 1.7 Plotting out the clusters\n",
        "\n",
        "One great way to explore clusters is to visualize them using **matplotlib**. Earlier, we computed a **senator_distances** array that shows the distance from each Senator to the center of each cluster. We can treat these distances as x and y coordinates, and make a scatterplot that shows the position of each Senator. This works because the distances are relative to the cluster centers.\n",
        "\n",
        "While making the scatterplot, we can also shade each point according to party affiliation. This will enable us to quickly look at the layout of the Senators, and see who crosses party lines.\n",
        "\n",
        "\n",
        "**Exercise Start**\n",
        "\n",
        "<img width=\"100\" alt=\"creating a repo\" src=\"https://drive.google.com/uc?export=view&id=1E8tR7B9YYUXsU_rddJAyq0FrM0MSelxZ\">\n",
        "\n",
        "\n",
        "- Make a scatterplot using [plt.scatter()](http://matplotlib.org/api/pyplot_api.html#matplotlib.pyplot.scatter). Pass in the following keyword arguments:\n",
        "  - **x** should be the first column of **senator_distances.**\n",
        "  - **y** should be the second column of **senator_distances.**\n",
        "  - **c** should be **labels**. This will shade the points according to label.\n",
        "  - **cmap** should be set to \"RdBu\"\n",
        "- Use **plt.show()** to show the plot."
      ]
    },
    {
      "metadata": {
        "id": "Iksh37LcN34z",
        "colab_type": "code",
        "outputId": "052bf596-f355-4e06-d9da-9eb71881a292",
        "colab": {
          "base_uri": "https://localhost:8080/",
          "height": 347
        }
      },
      "cell_type": "code",
      "source": [
        "# put your code here\n",
        "import matplotlib.pyplot as plt\n",
        "\n",
        "plt.scatter(senator_distances[:,0], senator_distances[:,1], c=labels, cmap=\"RdBu\")\n",
        "\n",
        "plt.show()"
      ],
      "execution_count": 0,
      "outputs": [
        {
          "output_type": "display_data",
          "data": {
            "image/png": "[encoded data removed]",
            "text/plain": [
              "<matplotlib.figure.Figure at 0x7fbc343563c8>"
            ]
          },
          "metadata": {
            "tags": []
          }
        }
      ]
    },
    {
      "metadata": {
        "id": "K8BnpvUcSKzO",
        "colab_type": "text"
      },
      "cell_type": "markdown",
      "source": [
        "## 1.8 Finding the most extreme\n"
      ]
    },
    {
      "metadata": {
        "id": "5A757B1tUDSv",
        "colab_type": "text"
      },
      "cell_type": "markdown",
      "source": [
        "\n",
        "\n",
        "The **most extreme** Senators are those who are the furthest away from one cluster. For example, a radical Republican would be as far from the Democratic cluster as possible. Senators who are in between both clusters are more moderate, as they fall in between the views of the two parties.\n",
        "\n",
        "If we look at the first few rows of **senator_distances**, we can start to see who is more extreme:\n",
        "\n",
        ">```python\n",
        "[\n",
        "       [ 3.12141628,  1.3134775 ], # Slightly moderate, far from cluster 1, close to cluster 2.\n",
        "       [ 2.6146248 ,  2.05339992], # Moderate, far from cluster 1, far from cluster 2.\n",
        "       [ 0.33960656,  3.41651746], # Somewhat extreme, very close to cluster 1, very far from cluster 2.\n",
        "       [ 3.42004795,  0.24198446], # Fairly extreme, very far from cluster 1, very close to cluster 2.\n",
        "       ...\n",
        "   ]\n",
        "```\n",
        "\n",
        "We'll create a formula to find extremists -- we'll cube the distances in both columns of **senator_distances**, then add them together. The higher the exponent we raise a set of numbers to, the more separation we'll see between small values and low values. For instance, squaring [1,2,3] results in [1,4,9], and cubing it results in [1,8,27].\n",
        "\n",
        "We cube the distances so that we can get a good amount of separation between the extremists who are farther away from a party, who have distances that look like extremist = [3.4, .24], and moderates, whose distances look like moderate = [2.6, 2]. If we left the distances as is, we'd end up with 3.4 + .24 = 3.64, and 2.6 + 2 = 4.6, which would make the moderate, who is between both parties, seem extreme. If we cube, we instead end up with $3.4^ 3 + .24^3 = 39.3$, and $2.6^3 + 2^3 = 25.5$, which correctly identifies the extremist.\n",
        "\n",
        "Here's how the first few ratings would look:\n",
        "\n",
        "```python\n",
        "[\n",
        "       [ 3.12141628,  1.3134775 ], # 32.67\n",
        "       [ 2.6146248 ,  2.05339992], # 26.5\n",
        "       [ 0.33960656,  3.41651746], # 39.9\n",
        "       [ 3.42004795,  0.24198446], # 40\n",
        "       ...\n",
        "   ]\n",
        "```\n",
        "\n",
        "We can cube every value in **senator_distances** by typing $senator\\_distances^3$. To find the sum across every row, we'll need to use the NumPy [sum()](http://docs.scipy.org/doc/numpy-1.10.1/reference/generated/numpy.sum.html) method, and pass in the keyword argument axis=1.\n",
        "\n",
        "\n",
        "**Exercise Start**\n",
        "\n",
        "<img width=\"100\" alt=\"creating a repo\" src=\"https://drive.google.com/uc?export=view&id=1E8tR7B9YYUXsU_rddJAyq0FrM0MSelxZ\">\n",
        "\n",
        "\n",
        "\n",
        "- Compute an extremism rating by cubing every value in **senator_distances**, then finding the **sum** across each row. Assign the result to **extremism.**\n",
        "- Assign the **extremism** variable to the **extremism** column of **votes**.\n",
        "- Sort **votes** on the **extremism** column, in **descending** order, using the **sort_values()** method on DataFrames.\n",
        "- Print the top 10 most extreme Senators."
      ]
    },
    {
      "metadata": {
        "id": "jpwXgsJJKAl9",
        "colab_type": "code",
        "outputId": "69b24ff3-946f-4c2a-bbb1-7d615aa8f5f9",
        "colab": {
          "base_uri": "https://localhost:8080/",
          "height": 357
        }
      },
      "cell_type": "code",
      "source": [
        "senator_distances[:,0]\n"
      ],
      "execution_count": 0,
      "outputs": [
        {
          "output_type": "execute_result",
          "data": {
            "text/plain": [
              "array([3.12141628, 2.6146248 , 0.33960656, 3.42004795, 1.43833966,\n",
              "       0.33960656, 3.42004795, 0.33960656, 3.42004795, 0.31287498,\n",
              "       0.33960656, 3.27058526, 0.33960656, 3.34875646, 0.33960656,\n",
              "       1.18084816, 1.23852221, 3.42004795, 3.42004795, 3.42004795,\n",
              "       2.6146248 , 0.58487332, 3.42004795, 3.42004795, 3.42004795,\n",
              "       3.42004795, 3.56324683, 3.42004795, 1.73847904, 0.33960656,\n",
              "       3.42004795, 3.42004795, 0.33960656, 3.42004795, 3.42004795,\n",
              "       0.58487332, 3.27058526, 0.33960656, 3.19687093, 3.42004795,\n",
              "       3.42004795, 0.76187197, 2.3965057 , 3.28477567, 0.33960656,\n",
              "       3.42004795, 3.42004795, 3.42004795, 3.42004795, 0.88867948,\n",
              "       0.76187197, 3.01916091, 1.12020868, 3.56324683, 0.33960656,\n",
              "       3.34962442, 2.78266771, 0.33960656, 3.42004795, 1.71151573,\n",
              "       3.42004795, 0.33960656, 0.33960656, 0.33960656, 3.42004795,\n",
              "       3.42004795, 0.33960656, 0.33960656, 1.01109315, 3.56324683,\n",
              "       3.42004795, 0.76187197, 3.42004795, 0.33960656, 1.77652196,\n",
              "       3.42004795, 3.42004795, 3.42004795, 2.87211656, 0.33960656,\n",
              "       3.56324683, 0.33960656, 0.33960656, 3.42004795, 3.42004795,\n",
              "       0.33960656, 3.42004795, 0.76187197, 3.42004795, 1.71151573,\n",
              "       3.42004795, 3.42004795, 3.42004795, 0.33960656, 3.42004795,\n",
              "       1.32031799, 0.33960656, 0.33960656, 3.56324683, 0.33960656])"
            ]
          },
          "metadata": {
            "tags": []
          },
          "execution_count": 62
        }
      ]
    },
    {
      "metadata": {
        "id": "3XpghOTDWSqq",
        "colab_type": "code",
        "colab": {}
      },
      "cell_type": "code",
      "source": [
        "# put your code here\n",
        "import numpy as np\n",
        "\n",
        "extremism = (senator_distances[:,0]**3) + (senator_distances[:,1]**3)\n",
        "\n",
        "votes[\"extremism\"] = pd.DataFrame(extremism)"
      ],
      "execution_count": 0,
      "outputs": []
    },
    {
      "metadata": {
        "id": "5CjKZg-wSKzR",
        "colab_type": "text"
      },
      "cell_type": "markdown",
      "source": [
        "## 1.9 Next steps\n"
      ]
    },
    {
      "metadata": {
        "id": "oX7KZ6ksWat8",
        "colab_type": "text"
      },
      "cell_type": "markdown",
      "source": [
        "\n",
        "\n",
        "**Clustering is a powerful way to explore data and find patterns.** Unsupervised learning is very commonly used with large datasets where it isn't obvious how to start with supervised machine learning. In general, it's a good idea to try unsupervised learning to explore a dataset before trying to use supervised learning machine learning models.\n",
        "\n",
        "In the next section, we'll dive more into the **k-means** clustering algorithm and build our own from the ground up.\n",
        "\n"
      ]
    },
    {
      "metadata": {
        "id": "UoSlXrhaSKzS",
        "colab_type": "text"
      },
      "cell_type": "markdown",
      "source": [
        "# 2.0 K-means clustering"
      ]
    },
    {
      "metadata": {
        "id": "3M_CM24KXvgs",
        "colab_type": "text"
      },
      "cell_type": "markdown",
      "source": [
        "## 2.1 Clustering NBA Players"
      ]
    },
    {
      "metadata": {
        "id": "an7qxkSU1kKq",
        "colab_type": "text"
      },
      "cell_type": "markdown",
      "source": [
        "In NBA media coverage, sports reporters usually focus on a handful of players and paint stories of how unique these players' stats are. With our data science hats on, we can't help but feel a slight sense of skepticism to how different the players are from one another. Let's see how we can use data science to explore that thread further.\n",
        "\n",
        "Let's look at the dataset of player performance from the 2013-2014 season.\n",
        "\n",
        "Here are some selected columns:\n",
        "\n",
        "- **player** -- name of the player\n",
        "- **pos** -- the position of the player\n",
        "- **g** -- number of games the player was in\n",
        "- **pts** -- total points the player scored\n",
        "- **fg.** -- field goal percentage\n",
        "- **ft.** -- free throw percentage\n",
        "\n",
        "Check out [Database Basketball](https://www.rotowire.com/basketball/stats.php?season=2013) for an explanation of all the columns"
      ]
    },
    {
      "metadata": {
        "id": "dK9ilOvB2qme",
        "colab_type": "code",
        "outputId": "9673241b-59a9-442c-ea97-635bee98752c",
        "colab": {
          "base_uri": "https://localhost:8080/",
          "height": 204
        }
      },
      "cell_type": "code",
      "source": [
        "import pandas as pd\n",
        "import numpy as np\n",
        "\n",
        "# visualize more columns\n",
        "pd.set_option('display.max_columns', 50)\n",
        "\n",
        "nba = pd.read_csv(\"nba_2013.csv\")\n",
        "nba.head()"
      ],
      "execution_count": 0,
      "outputs": [
        {
          "output_type": "execute_result",
          "data": {
            "text/html": [
              "<div>\n",
              "<style scoped>\n",
              "    .dataframe tbody tr th:only-of-type {\n",
              "        vertical-align: middle;\n",
              "    }\n",
              "\n",
              "    .dataframe tbody tr th {\n",
              "        vertical-align: top;\n",
              "    }\n",
              "\n",
              "    .dataframe thead th {\n",
              "        text-align: right;\n",
              "    }\n",
              "</style>\n",
              "<table border=\"1\" class=\"dataframe\">\n",
              "  <thead>\n",
              "    <tr style=\"text-align: right;\">\n",
              "      <th></th>\n",
              "      <th>player</th>\n",
              "      <th>pos</th>\n",
              "      <th>age</th>\n",
              "      <th>bref_team_id</th>\n",
              "      <th>g</th>\n",
              "      <th>gs</th>\n",
              "      <th>mp</th>\n",
              "      <th>fg</th>\n",
              "      <th>fga</th>\n",
              "      <th>fg.</th>\n",
              "      <th>x3p</th>\n",
              "      <th>x3pa</th>\n",
              "      <th>x3p.</th>\n",
              "      <th>x2p</th>\n",
              "      <th>x2pa</th>\n",
              "      <th>x2p.</th>\n",
              "      <th>efg.</th>\n",
              "      <th>ft</th>\n",
              "      <th>fta</th>\n",
              "      <th>ft.</th>\n",
              "      <th>orb</th>\n",
              "      <th>drb</th>\n",
              "      <th>trb</th>\n",
              "      <th>ast</th>\n",
              "      <th>stl</th>\n",
              "      <th>blk</th>\n",
              "      <th>tov</th>\n",
              "      <th>pf</th>\n",
              "      <th>pts</th>\n",
              "      <th>season</th>\n",
              "      <th>season_end</th>\n",
              "    </tr>\n",
              "  </thead>\n",
              "  <tbody>\n",
              "    <tr>\n",
              "      <th>0</th>\n",
              "      <td>Quincy Acy</td>\n",
              "      <td>SF</td>\n",
              "      <td>23</td>\n",
              "      <td>TOT</td>\n",
              "      <td>63</td>\n",
              "      <td>0</td>\n",
              "      <td>847</td>\n",
              "      <td>66</td>\n",
              "      <td>141</td>\n",
              "      <td>0.468</td>\n",
              "      <td>4</td>\n",
              "      <td>15</td>\n",
              "      <td>0.266667</td>\n",
              "      <td>62</td>\n",
              "      <td>126</td>\n",
              "      <td>0.492063</td>\n",
              "      <td>0.482</td>\n",
              "      <td>35</td>\n",
              "      <td>53</td>\n",
              "      <td>0.660</td>\n",
              "      <td>72</td>\n",
              "      <td>144</td>\n",
              "      <td>216</td>\n",
              "      <td>28</td>\n",
              "      <td>23</td>\n",
              "      <td>26</td>\n",
              "      <td>30</td>\n",
              "      <td>122</td>\n",
              "      <td>171</td>\n",
              "      <td>2013-2014</td>\n",
              "      <td>2013</td>\n",
              "    </tr>\n",
              "    <tr>\n",
              "      <th>1</th>\n",
              "      <td>Steven Adams</td>\n",
              "      <td>C</td>\n",
              "      <td>20</td>\n",
              "      <td>OKC</td>\n",
              "      <td>81</td>\n",
              "      <td>20</td>\n",
              "      <td>1197</td>\n",
              "      <td>93</td>\n",
              "      <td>185</td>\n",
              "      <td>0.503</td>\n",
              "      <td>0</td>\n",
              "      <td>0</td>\n",
              "      <td>NaN</td>\n",
              "      <td>93</td>\n",
              "      <td>185</td>\n",
              "      <td>0.502703</td>\n",
              "      <td>0.503</td>\n",
              "      <td>79</td>\n",
              "      <td>136</td>\n",
              "      <td>0.581</td>\n",
              "      <td>142</td>\n",
              "      <td>190</td>\n",
              "      <td>332</td>\n",
              "      <td>43</td>\n",
              "      <td>40</td>\n",
              "      <td>57</td>\n",
              "      <td>71</td>\n",
              "      <td>203</td>\n",
              "      <td>265</td>\n",
              "      <td>2013-2014</td>\n",
              "      <td>2013</td>\n",
              "    </tr>\n",
              "    <tr>\n",
              "      <th>2</th>\n",
              "      <td>Jeff Adrien</td>\n",
              "      <td>PF</td>\n",
              "      <td>27</td>\n",
              "      <td>TOT</td>\n",
              "      <td>53</td>\n",
              "      <td>12</td>\n",
              "      <td>961</td>\n",
              "      <td>143</td>\n",
              "      <td>275</td>\n",
              "      <td>0.520</td>\n",
              "      <td>0</td>\n",
              "      <td>0</td>\n",
              "      <td>NaN</td>\n",
              "      <td>143</td>\n",
              "      <td>275</td>\n",
              "      <td>0.520000</td>\n",
              "      <td>0.520</td>\n",
              "      <td>76</td>\n",
              "      <td>119</td>\n",
              "      <td>0.639</td>\n",
              "      <td>102</td>\n",
              "      <td>204</td>\n",
              "      <td>306</td>\n",
              "      <td>38</td>\n",
              "      <td>24</td>\n",
              "      <td>36</td>\n",
              "      <td>39</td>\n",
              "      <td>108</td>\n",
              "      <td>362</td>\n",
              "      <td>2013-2014</td>\n",
              "      <td>2013</td>\n",
              "    </tr>\n",
              "    <tr>\n",
              "      <th>3</th>\n",
              "      <td>Arron Afflalo</td>\n",
              "      <td>SG</td>\n",
              "      <td>28</td>\n",
              "      <td>ORL</td>\n",
              "      <td>73</td>\n",
              "      <td>73</td>\n",
              "      <td>2552</td>\n",
              "      <td>464</td>\n",
              "      <td>1011</td>\n",
              "      <td>0.459</td>\n",
              "      <td>128</td>\n",
              "      <td>300</td>\n",
              "      <td>0.426667</td>\n",
              "      <td>336</td>\n",
              "      <td>711</td>\n",
              "      <td>0.472574</td>\n",
              "      <td>0.522</td>\n",
              "      <td>274</td>\n",
              "      <td>336</td>\n",
              "      <td>0.815</td>\n",
              "      <td>32</td>\n",
              "      <td>230</td>\n",
              "      <td>262</td>\n",
              "      <td>248</td>\n",
              "      <td>35</td>\n",
              "      <td>3</td>\n",
              "      <td>146</td>\n",
              "      <td>136</td>\n",
              "      <td>1330</td>\n",
              "      <td>2013-2014</td>\n",
              "      <td>2013</td>\n",
              "    </tr>\n",
              "    <tr>\n",
              "      <th>4</th>\n",
              "      <td>Alexis Ajinca</td>\n",
              "      <td>C</td>\n",
              "      <td>25</td>\n",
              "      <td>NOP</td>\n",
              "      <td>56</td>\n",
              "      <td>30</td>\n",
              "      <td>951</td>\n",
              "      <td>136</td>\n",
              "      <td>249</td>\n",
              "      <td>0.546</td>\n",
              "      <td>0</td>\n",
              "      <td>1</td>\n",
              "      <td>0.000000</td>\n",
              "      <td>136</td>\n",
              "      <td>248</td>\n",
              "      <td>0.548387</td>\n",
              "      <td>0.546</td>\n",
              "      <td>56</td>\n",
              "      <td>67</td>\n",
              "      <td>0.836</td>\n",
              "      <td>94</td>\n",
              "      <td>183</td>\n",
              "      <td>277</td>\n",
              "      <td>40</td>\n",
              "      <td>23</td>\n",
              "      <td>46</td>\n",
              "      <td>63</td>\n",
              "      <td>187</td>\n",
              "      <td>328</td>\n",
              "      <td>2013-2014</td>\n",
              "      <td>2013</td>\n",
              "    </tr>\n",
              "  </tbody>\n",
              "</table>\n",
              "</div>"
            ],
            "text/plain": [
              "          player pos  age bref_team_id   g  gs    mp   fg   fga    fg.  x3p  \\\n",
              "0     Quincy Acy  SF   23          TOT  63   0   847   66   141  0.468    4   \n",
              "1   Steven Adams   C   20          OKC  81  20  1197   93   185  0.503    0   \n",
              "2    Jeff Adrien  PF   27          TOT  53  12   961  143   275  0.520    0   \n",
              "3  Arron Afflalo  SG   28          ORL  73  73  2552  464  1011  0.459  128   \n",
              "4  Alexis Ajinca   C   25          NOP  56  30   951  136   249  0.546    0   \n",
              "\n",
              "   x3pa      x3p.  x2p  x2pa      x2p.   efg.   ft  fta    ft.  orb  drb  trb  \\\n",
              "0    15  0.266667   62   126  0.492063  0.482   35   53  0.660   72  144  216   \n",
              "1     0       NaN   93   185  0.502703  0.503   79  136  0.581  142  190  332   \n",
              "2     0       NaN  143   275  0.520000  0.520   76  119  0.639  102  204  306   \n",
              "3   300  0.426667  336   711  0.472574  0.522  274  336  0.815   32  230  262   \n",
              "4     1  0.000000  136   248  0.548387  0.546   56   67  0.836   94  183  277   \n",
              "\n",
              "   ast  stl  blk  tov   pf   pts     season  season_end  \n",
              "0   28   23   26   30  122   171  2013-2014        2013  \n",
              "1   43   40   57   71  203   265  2013-2014        2013  \n",
              "2   38   24   36   39  108   362  2013-2014        2013  \n",
              "3  248   35    3  146  136  1330  2013-2014        2013  \n",
              "4   40   23   46   63  187   328  2013-2014        2013  "
            ]
          },
          "metadata": {
            "tags": []
          },
          "execution_count": 48
        }
      ]
    },
    {
      "metadata": {
        "id": "8NrD8Qlk21RI",
        "colab_type": "text"
      },
      "cell_type": "markdown",
      "source": [
        "## 2.2 Point Guards"
      ]
    },
    {
      "metadata": {
        "id": "18gPJBsA4OOK",
        "colab_type": "text"
      },
      "cell_type": "markdown",
      "source": [
        "\n",
        "**Point guards** play one of the most crucial roles on a team because their **primary responsibility is to create scoring opportunities** for the team. We are going to focus our lesson on a machine learning technique called **clustering**, which allows us to visualize the types of point guards as well as group similar point guards together. **Using 2 features** allows us to easily visualize the players and will also make it easier to grasp how clustering works. For point guards, it's widely accepted that the **Assist to Turnover Ratio** is a good indicator for performance in games as it quantifies the number of scoring opportunities that player created. Let's also use **Points Per Game**, since effective Point Guards not only set up scoring opportunities but also take a lot of the shots themselves\n",
        "\n",
        "\n",
        "<center><img width=\"300\" alt=\"creating a repo\" src=\"https://drive.google.com/uc?export=view&id=1TRx73TAAQozxnflLXPhWXuDbM-Q2KHh4\"></center>\n",
        "\n",
        "\n",
        "\n",
        "**Exercise Start**\n",
        "\n",
        "<img width=\"100\" alt=\"creating a repo\" src=\"https://drive.google.com/uc?export=view&id=1E8tR7B9YYUXsU_rddJAyq0FrM0MSelxZ\">\n",
        "\n",
        "\n",
        "- Create a new Dataframe which contains just the point guards from the data set.\n",
        "  - Point guards are specified as **PG** in the **pos** column.\n",
        "- Assign the filtered data frame to **point_guards**.\n"
      ]
    },
    {
      "metadata": {
        "id": "i6kWD5K24h7k",
        "colab_type": "code",
        "outputId": "2d450a69-d36b-481b-946b-ce4c55d13dd4",
        "colab": {
          "base_uri": "https://localhost:8080/",
          "height": 357
        }
      },
      "cell_type": "code",
      "source": [
        "# put your code here\n",
        "point_guards = nba[nba[\"pos\"] == \"PG\"]\n",
        "print(point_guards.head())"
      ],
      "execution_count": 0,
      "outputs": [
        {
          "output_type": "stream",
          "text": [
            "             player pos  age bref_team_id   g  gs    mp   fg  fga    fg.  x3p  \\\n",
            "24    D.J. Augustin  PG   26          TOT  71   9  1939  298  718  0.415  133   \n",
            "29  Leandro Barbosa  PG   31          PHO  20   0   368   56  131  0.427    7   \n",
            "30       Jose Barea  PG   29          MIN  79   1  1471  254  656  0.387   73   \n",
            "38   Jerryd Bayless  PG   25          TOT  72  19  1686  248  617  0.402   76   \n",
            "50      Steve Blake  PG   33          TOT  55  28  1498  133  353  0.377   79   \n",
            "\n",
            "    x3pa      x3p.  x2p  x2pa      x2p.   efg.   ft  fta    ft.  orb  drb  \\\n",
            "24   332  0.400602  165   386  0.427461  0.508  201  227  0.885   15  115   \n",
            "29    25  0.280000   49   106  0.462264  0.454   31   39  0.795    5   32   \n",
            "30   231  0.316017  181   425  0.425882  0.443   79  100  0.790   16  138   \n",
            "38   212  0.358491  172   405  0.424691  0.464   94  118  0.797   22  123   \n",
            "50   210  0.376190   54   143  0.377622  0.489   33   43  0.767   13  146   \n",
            "\n",
            "    trb  ast  stl  blk  tov   pf  pts     season  season_end  \n",
            "24  130  313   53    3  125  147  930  2013-2014        2013  \n",
            "29   37   32    7    4   19   30  150  2013-2014        2013  \n",
            "30  154  303   26    0  125  129  660  2013-2014        2013  \n",
            "38  145  194   60    9   82  161  666  2013-2014        2013  \n",
            "50  159  307   54    8  102   85  378  2013-2014        2013  \n"
          ],
          "name": "stdout"
        }
      ]
    },
    {
      "metadata": {
        "id": "2eB6pdbp68qA",
        "colab_type": "text"
      },
      "cell_type": "markdown",
      "source": [
        "## 2.3 Points Per Game"
      ]
    },
    {
      "metadata": {
        "id": "kRJf3LjI7RUl",
        "colab_type": "text"
      },
      "cell_type": "markdown",
      "source": [
        "While our dataset doesn't come with **Points Per Game** values, we can easily calculate those using each player's total points (**pts**) and the number of games (**g**) they played. Let's take advantage of pandas' ability to multiply and divide columns to create the Points Per Game **ppg** column by dividing the pts and g columns."
      ]
    },
    {
      "metadata": {
        "id": "a4J8zejW7bJC",
        "colab_type": "code",
        "outputId": "d2f70393-9df3-4b32-ac6c-cb970d596c06",
        "colab": {
          "base_uri": "https://localhost:8080/",
          "height": 459
        }
      },
      "cell_type": "code",
      "source": [
        "# put your code here\n",
        "point_guards[\"ppg\"] = point_guards[\"pts\"] / point_guards[\"g\"]\n",
        "\n",
        "print(point_guards.head())"
      ],
      "execution_count": 0,
      "outputs": [
        {
          "output_type": "stream",
          "text": [
            "             player pos  age bref_team_id   g  gs    mp   fg  fga    fg.  x3p  \\\n",
            "24    D.J. Augustin  PG   26          TOT  71   9  1939  298  718  0.415  133   \n",
            "29  Leandro Barbosa  PG   31          PHO  20   0   368   56  131  0.427    7   \n",
            "30       Jose Barea  PG   29          MIN  79   1  1471  254  656  0.387   73   \n",
            "38   Jerryd Bayless  PG   25          TOT  72  19  1686  248  617  0.402   76   \n",
            "50      Steve Blake  PG   33          TOT  55  28  1498  133  353  0.377   79   \n",
            "\n",
            "    x3pa      x3p.  x2p  x2pa      x2p.   efg.   ft  fta    ft.  orb  drb  \\\n",
            "24   332  0.400602  165   386  0.427461  0.508  201  227  0.885   15  115   \n",
            "29    25  0.280000   49   106  0.462264  0.454   31   39  0.795    5   32   \n",
            "30   231  0.316017  181   425  0.425882  0.443   79  100  0.790   16  138   \n",
            "38   212  0.358491  172   405  0.424691  0.464   94  118  0.797   22  123   \n",
            "50   210  0.376190   54   143  0.377622  0.489   33   43  0.767   13  146   \n",
            "\n",
            "    trb  ast  stl  blk  tov   pf  pts     season  season_end        ppg  \n",
            "24  130  313   53    3  125  147  930  2013-2014        2013  13.098592  \n",
            "29   37   32    7    4   19   30  150  2013-2014        2013   7.500000  \n",
            "30  154  303   26    0  125  129  660  2013-2014        2013   8.354430  \n",
            "38  145  194   60    9   82  161  666  2013-2014        2013   9.250000  \n",
            "50  159  307   54    8  102   85  378  2013-2014        2013   6.872727  \n"
          ],
          "name": "stdout"
        },
        {
          "output_type": "stream",
          "text": [
            "/usr/local/lib/python3.6/dist-packages/ipykernel_launcher.py:1: SettingWithCopyWarning: \n",
            "A value is trying to be set on a copy of a slice from a DataFrame.\n",
            "Try using .loc[row_indexer,col_indexer] = value instead\n",
            "\n",
            "See the caveats in the documentation: http://pandas.pydata.org/pandas-docs/stable/indexing.html#indexing-view-versus-copy\n",
            "  \"\"\"Entry point for launching an IPython kernel.\n"
          ],
          "name": "stderr"
        }
      ]
    },
    {
      "metadata": {
        "id": "Wu9Sy1wu8GRN",
        "colab_type": "text"
      },
      "cell_type": "markdown",
      "source": [
        "## 2.4 Assist Turnover Ratio"
      ]
    },
    {
      "metadata": {
        "id": "uvi1SQlc-4Q-",
        "colab_type": "text"
      },
      "cell_type": "markdown",
      "source": [
        "Now let's create a column, **atr**, for the Assist Turnover Ratio, which is calculated by dividing total assists (**ast**) by total turnovers (**tov**):\n",
        "\n",
        "$$\n",
        "\\displaystyle atr = \\frac{ast}{tov}\n",
        "$$\n",
        "\n",
        "**Exercise Start**\n",
        "\n",
        "<img width=\"100\" alt=\"creating a repo\" src=\"https://drive.google.com/uc?export=view&id=1E8tR7B9YYUXsU_rddJAyq0FrM0MSelxZ\">\n",
        "\n",
        "\n",
        "- Drop the players who have 0 turnovers.\n",
        "  - Not only did these players only play a few games, making it hard to understand their true abilities, but we also cannot divide by 0 when we calculate **atr**.\n",
        "- Utilize the same division technique we used with Points Per Game to create the Assist Turnover Ratio (**atr**) column for **point_guards.**"
      ]
    },
    {
      "metadata": {
        "id": "0oLFqAtK_Hqm",
        "colab_type": "code",
        "outputId": "534faf53-7245-4848-f997-1b5e3a6e8f7a",
        "colab": {
          "base_uri": "https://localhost:8080/",
          "height": 476
        }
      },
      "cell_type": "code",
      "source": [
        "# put your code here\n",
        "point_guards = point_guards[point_guards.tov != 0]\n",
        "point_guards[\"atr\"] = point_guards[\"ast\"] / point_guards[\"tov\"]\n",
        "\n",
        "print(point_guards.head())"
      ],
      "execution_count": 0,
      "outputs": [
        {
          "output_type": "stream",
          "text": [
            "             player pos  age bref_team_id   g  gs    mp   fg  fga    fg.  x3p  \\\n",
            "24    D.J. Augustin  PG   26          TOT  71   9  1939  298  718  0.415  133   \n",
            "29  Leandro Barbosa  PG   31          PHO  20   0   368   56  131  0.427    7   \n",
            "30       Jose Barea  PG   29          MIN  79   1  1471  254  656  0.387   73   \n",
            "38   Jerryd Bayless  PG   25          TOT  72  19  1686  248  617  0.402   76   \n",
            "50      Steve Blake  PG   33          TOT  55  28  1498  133  353  0.377   79   \n",
            "\n",
            "    x3pa      x3p.  x2p  x2pa      x2p.   efg.   ft  fta    ft.  orb  drb  \\\n",
            "24   332  0.400602  165   386  0.427461  0.508  201  227  0.885   15  115   \n",
            "29    25  0.280000   49   106  0.462264  0.454   31   39  0.795    5   32   \n",
            "30   231  0.316017  181   425  0.425882  0.443   79  100  0.790   16  138   \n",
            "38   212  0.358491  172   405  0.424691  0.464   94  118  0.797   22  123   \n",
            "50   210  0.376190   54   143  0.377622  0.489   33   43  0.767   13  146   \n",
            "\n",
            "    trb  ast  stl  blk  tov   pf  pts     season  season_end        ppg  \\\n",
            "24  130  313   53    3  125  147  930  2013-2014        2013  13.098592   \n",
            "29   37   32    7    4   19   30  150  2013-2014        2013   7.500000   \n",
            "30  154  303   26    0  125  129  660  2013-2014        2013   8.354430   \n",
            "38  145  194   60    9   82  161  666  2013-2014        2013   9.250000   \n",
            "50  159  307   54    8  102   85  378  2013-2014        2013   6.872727   \n",
            "\n",
            "         atr  \n",
            "24  2.504000  \n",
            "29  1.684211  \n",
            "30  2.424000  \n",
            "38  2.365854  \n",
            "50  3.009804  \n"
          ],
          "name": "stdout"
        }
      ]
    },
    {
      "metadata": {
        "id": "LdpJoIdJBz6d",
        "colab_type": "text"
      },
      "cell_type": "markdown",
      "source": [
        "## 2.5 Visualizing the Point Guards"
      ]
    },
    {
      "metadata": {
        "id": "hWwlKKSjB1BC",
        "colab_type": "text"
      },
      "cell_type": "markdown",
      "source": [
        "Use **matplotlib** to create a **scatter** plot with Points Per Game (**ppg**) on the X axis and Assist Turnover Ratio (**atr**) on the Y axis.\n"
      ]
    },
    {
      "metadata": {
        "id": "GyOeV0hVCAqK",
        "colab_type": "code",
        "outputId": "dc85dbc4-7d83-490a-9769-0d59da2a1be8",
        "colab": {
          "base_uri": "https://localhost:8080/",
          "height": 347
        }
      },
      "cell_type": "code",
      "source": [
        "# put your code here\n",
        "import matplotlib.pyplot as plt\n",
        "\n",
        "plt.scatter(point_guards[\"ppg\"], point_guards[\"atr\"])\n",
        "\n",
        "plt.show()"
      ],
      "execution_count": 0,
      "outputs": [
        {
          "output_type": "display_data",
          "data": {
            "image/png": "[encoded data removed]",
            "text/plain": [
              "<matplotlib.figure.Figure at 0x7fbc318f9240>"
            ]
          },
          "metadata": {
            "tags": []
          }
        }
      ]
    },
    {
      "metadata": {
        "id": "wyjlESKgCVa-",
        "colab_type": "text"
      },
      "cell_type": "markdown",
      "source": [
        "## 2.6 Clustering players"
      ]
    },
    {
      "metadata": {
        "id": "9XGFwMaRDYAK",
        "colab_type": "text"
      },
      "cell_type": "markdown",
      "source": [
        "**There seem to be 5 general regions**, or clusters, that the point guards fall into (with a few outliers of course!). We can use a technique called clustering to segment all of the point guards into groups of alike players. While regression and other supervised machine learning techniques work well when we have a clear metric we want to optimize for and lots of pre-labelled data, we need to instead use **unsupervised machine learning techniques to explore the structure within a data set that doesn't have a clear value to optimize.**\n",
        "\n",
        "There are multiple ways of clustering data but here we will focus on **centroid based clustering** for this lesson. Centroid based clustering works well when the clusters resemble circles with centers (or centroids). **The centroid represent the arithmetic mean of all of the data points in that cluster.**\n",
        "\n",
        "**K-Means Clustering is a popular centroid-based clustering algorithm that we will use.** The K in K-Means refers to the number of clusters we want to segment our data into. The key part with K-Means (and most unsupervised machine learning techniques) is that we have to specify what k is. There are advantages and disadvantages to this, but one advantage is that we can pick the k that makes the most sense for our use case. We'll set k to 5 since we want K-Means to segment our data into 5 clusters."
      ]
    },
    {
      "metadata": {
        "id": "zXc6OZqyDivH",
        "colab_type": "text"
      },
      "cell_type": "markdown",
      "source": [
        "## 2.7 The Algorithm"
      ]
    },
    {
      "metadata": {
        "id": "MUef5S05Ejnb",
        "colab_type": "text"
      },
      "cell_type": "markdown",
      "source": [
        "Setup K-Means is an iterative algorithm that switches between recalculating the centroid of each cluster and the players that belong to that cluster. **To start, select 5 players at random and assign their coordinates as the initial centroids of the just created clusters.**\n",
        "\n",
        "- **Step 1 (Assign Points to Clusters)** - for each player, calculate the Euclidean distance between that player's coordinates, or values for **atr & ppg**, and each of the centroids' coordinates. Assign the player to the cluster whose centroid is the closest to, or has the lowest Euclidean distance to, the player's values.\n",
        "\n",
        "- **Step 2 (Update New Centroids of the Clusters)** - for each cluster, compute the new centroid by calculating the arithmetic mean of all of the points (players) in that cluster. We calculate the arithmetic mean by taking the average of all of the X values (atr) and the average of all of the Y values (ppg) of the points in that cluster.\n",
        "\n",
        "- Iterate Repeat steps 1 & 2 until the clusters are no longer moving and have converged.\n",
        "\n",
        "\n"
      ]
    },
    {
      "metadata": {
        "id": "uUyAW6uCE8_P",
        "colab_type": "code",
        "colab": {}
      },
      "cell_type": "code",
      "source": [
        "num_clusters = 5\n",
        "\n",
        "# Use numpy's random function to generate a list, \n",
        "# length: num_clusters, of indices\n",
        "random_initial_points = np.random.choice(point_guards.index, size=num_clusters)\n",
        "\n",
        "# Use the random indices to create the centroids\n",
        "centroids = point_guards.loc[random_initial_points]\n"
      ],
      "execution_count": 0,
      "outputs": []
    },
    {
      "metadata": {
        "id": "sC6DxyyiuWvF",
        "colab_type": "code",
        "outputId": "7a94e41c-834e-46ad-d5ca-3f3e26dba4ae",
        "colab": {
          "base_uri": "https://localhost:8080/",
          "height": 51
        }
      },
      "cell_type": "code",
      "source": [
        "print(random_initial_points)\n",
        "print(centroids.index)"
      ],
      "execution_count": 0,
      "outputs": [
        {
          "output_type": "stream",
          "text": [
            "[399 261 207 280 451]\n",
            "Int64Index([399, 261, 207, 280, 451], dtype='int64')\n"
          ],
          "name": "stdout"
        }
      ]
    },
    {
      "metadata": {
        "id": "K8OGcD4NJOpn",
        "colab_type": "text"
      },
      "cell_type": "markdown",
      "source": [
        "### 2.7.1 Visualize the centroids\n"
      ]
    },
    {
      "metadata": {
        "id": "2bgC5avuJjeJ",
        "colab_type": "text"
      },
      "cell_type": "markdown",
      "source": [
        "Let's plot the **centroids**, in addition to the **point_guards**, so we can see where the randomly chosen centroids started out.\n",
        "\n",
        "\n",
        "**Exercise Start**\n",
        "\n",
        "<img width=\"100\" alt=\"creating a repo\" src=\"https://drive.google.com/uc?export=view&id=1E8tR7B9YYUXsU_rddJAyq0FrM0MSelxZ\">\n",
        "\n",
        "- Plot a scatter figure using **ppg** and **atr** from **point_guards**.\n",
        "- In the same figure,  create a scatter plot using **ppg** and **atr** from **centroids**."
      ]
    },
    {
      "metadata": {
        "colab_type": "code",
        "id": "5bWor8T_9WxF",
        "outputId": "8b3c0bfe-f85e-4b2c-ad4f-b623d17bbc3a",
        "colab": {
          "base_uri": "https://localhost:8080/",
          "height": 347
        }
      },
      "cell_type": "code",
      "source": [
        "# put your code here\n",
        "import matplotlib.pyplot as plt\n",
        "\n",
        "plt.scatter(point_guards[\"ppg\"], point_guards[\"atr\"])\n",
        "plt.scatter(point_guards[\"ppg\"][centroids.index], point_guards[\"atr\"][centroids.index], c=\"red\")\n",
        "\n",
        "plt.show()"
      ],
      "execution_count": 0,
      "outputs": [
        {
          "output_type": "display_data",
          "data": {
            "image/png": "[encoded data removed]",
            "text/plain": [
              "<matplotlib.figure.Figure at 0x7fbc315d4e10>"
            ]
          },
          "metadata": {
            "tags": []
          }
        }
      ]
    },
    {
      "metadata": {
        "id": "v8B_EH3tJwFp",
        "colab_type": "text"
      },
      "cell_type": "markdown",
      "source": [
        "### 2.7.2 Setup (continued)"
      ]
    },
    {
      "metadata": {
        "id": "jCXf2yv5LS5u",
        "colab_type": "text"
      },
      "cell_type": "markdown",
      "source": [
        "While the **centroids** dataframe object worked well for the initial centroids, where the centroids were just a subset of players, as we iterate the centroids' values will be coordinates that may not match another player's coordinates. Moving forward, **let's use a dictionary object instead to represent the centroids.**\n",
        "\n",
        "We will need a unique identifier, like **cluster_id**, to refer to each cluster's centroid and a list representation of the centroid's coordinates (or values for **ppg** and **atr**). Let's create a dictionary then with the following mapping:\n",
        "\n",
        "- key: **cluster_id** of that centroid's cluster\n",
        "- value: centroid's coordinates expressed as a list ( **ppg** value first, **atr** value second )\n",
        "\n",
        "To generate the **cluster_ids**, let's iterate through each centroid and assign an integer from 0 to k-1. For example, the first centroid will have a **cluster_id** of 0, while the second one will have a **cluster_id** of 1. We'll write a function, **centroids_to_dict**, that takes in the centroids data frame object, creates a **cluster_id** and converts the **ppg** and **atr** values for that centroid into a list of coordinates, and adds both the **cluster_id** and **coordinates_list** into the dictionary that's returned.\n",
        "\n"
      ]
    },
    {
      "metadata": {
        "id": "hHFkeynmMb5R",
        "colab_type": "code",
        "colab": {}
      },
      "cell_type": "code",
      "source": [
        "def centroids_to_dict(centroids):\n",
        "    dictionary = dict()\n",
        "    # iterating counter we use to generate a cluster_id\n",
        "    counter = 0\n",
        "\n",
        "    # iterate a pandas data frame row-wise using .iterrows()\n",
        "    for index, row in centroids.iterrows():\n",
        "        coordinates = [row['ppg'], row['atr']]\n",
        "        dictionary[counter] = coordinates\n",
        "        counter += 1\n",
        "\n",
        "    return dictionary\n",
        "\n",
        "centroids_dict = centroids_to_dict(centroids)"
      ],
      "execution_count": 0,
      "outputs": []
    },
    {
      "metadata": {
        "id": "EgI1jC5XNOln",
        "colab_type": "text"
      },
      "cell_type": "markdown",
      "source": [
        "### 2.7.3 Step 1 (Euclidean Distance)"
      ]
    },
    {
      "metadata": {
        "id": "VbuxIJ7-NrG9",
        "colab_type": "text"
      },
      "cell_type": "markdown",
      "source": [
        "Before we can assign players to clusters, we need a way to compare the **ppg** and **atr** values of the players with each cluster's centroids. **Euclidean distance** is the most common technique used in data science for measuring distance between vectors and works extremely well in 2 and 3 dimensions. While in higher dimensions, Euclidean distance can be misleading, in 2 dimensions Euclidean distance is essentially the **Pythagorean theorem**. The formula is :\n",
        "\n",
        "\n",
        "$$\\sqrt{(q_1-p_1)^2+(q_2-p_2)^2+\\ldots+(q_n-p_n)^2}$$\n",
        "\n",
        "\n",
        "where **q** and **p** are the 2 vectors we are comparing. If **q** is **[5, 2]** and **p** is **[3, 1]**, the distance comes out to:\n",
        "\n",
        "$$\\sqrt{(5-3)^2+(2-1)^2} = \\sqrt{5} =2.24 $$\n",
        "\n",
        "Let's create the function **calculate_distance**, which takes in 2 lists (the player's values for **ppg** and **atr** and the centroid's values for **ppg** and **atr**).\n"
      ]
    },
    {
      "metadata": {
        "id": "2lM_-XQYOlkp",
        "colab_type": "code",
        "outputId": "9f4d68d2-b0d9-4c75-93f8-b3920ee87691",
        "colab": {
          "base_uri": "https://localhost:8080/",
          "height": 34
        }
      },
      "cell_type": "code",
      "source": [
        "import math\n",
        "\n",
        "def calculate_distance(centroid, player_values):\n",
        "    root_distance = 0\n",
        "    \n",
        "    for x in range(0, len(centroid)):\n",
        "        difference = centroid[x] - player_values[x]\n",
        "        squared_difference = difference**2\n",
        "        root_distance += squared_difference\n",
        "\n",
        "    euclid_distance = math.sqrt(root_distance)\n",
        "    return euclid_distance\n",
        "\n",
        "q = [5, 2]\n",
        "p = [3,1]\n",
        "\n",
        "# Sqrt(5) = ~2.24\n",
        "print(calculate_distance(q, p))\n"
      ],
      "execution_count": 0,
      "outputs": [
        {
          "output_type": "stream",
          "text": [
            "2.23606797749979\n"
          ],
          "name": "stdout"
        }
      ]
    },
    {
      "metadata": {
        "id": "kxzIeLwxPs_a",
        "colab_type": "text"
      },
      "cell_type": "markdown",
      "source": [
        "### 2.7.4 Step 1 (Continued)"
      ]
    },
    {
      "metadata": {
        "id": "kdfBaA5nRRpx",
        "colab_type": "text"
      },
      "cell_type": "markdown",
      "source": [
        "Now we need a way to assign data points to clusters based on Euclidean distance. Instead of creating a new variable or data structure to house the clusters, let's keep things simple and just add a column to the **point_guards** data frame that contains the **cluster_id** of the cluster it belongs to.\n",
        "\n",
        "Note: Even though we don't seed the random numbers to generate the centroids, the answer is seeded and will produce the same results everytime."
      ]
    },
    {
      "metadata": {
        "id": "1W5sc2PSRljg",
        "colab_type": "code",
        "colab": {}
      },
      "cell_type": "code",
      "source": [
        "def assign_to_cluster(row):\n",
        "    lowest_distance = -1\n",
        "    closest_cluster = -1\n",
        "    \n",
        "    for cluster_id, centroid in centroids_dict.items():\n",
        "        df_row = [row['ppg'], row['atr']]\n",
        "        euclidean_distance = calculate_distance(centroid, df_row)\n",
        "        \n",
        "        if lowest_distance == -1:\n",
        "            lowest_distance = euclidean_distance\n",
        "            closest_cluster = cluster_id \n",
        "        elif euclidean_distance < lowest_distance:\n",
        "            lowest_distance = euclidean_distance\n",
        "            closest_cluster = cluster_id\n",
        "    return closest_cluster\n",
        "\n",
        "point_guards['cluster'] = point_guards.apply(lambda row: assign_to_cluster(row), axis=1)"
      ],
      "execution_count": 0,
      "outputs": []
    },
    {
      "metadata": {
        "id": "vk6vB8ziSkad",
        "colab_type": "text"
      },
      "cell_type": "markdown",
      "source": [
        "### 2.7.5 Visualizing Clusters"
      ]
    },
    {
      "metadata": {
        "id": "DwBF_YYaS2OW",
        "colab_type": "text"
      },
      "cell_type": "markdown",
      "source": [
        "Let's write a function, **visualize_clusters**, that we can use to visualize the clusters easily."
      ]
    },
    {
      "metadata": {
        "id": "CH3Vck_CS86G",
        "colab_type": "code",
        "outputId": "257dc067-4eb3-4b5e-b589-11df34b97650",
        "colab": {
          "base_uri": "https://localhost:8080/",
          "height": 363
        }
      },
      "cell_type": "code",
      "source": [
        "# Visualizing clusters\n",
        "def visualize_clusters(df, num_clusters):\n",
        "    colors = ['b', 'g', 'r', 'c', 'm', 'y', 'k']\n",
        "\n",
        "    for n in range(num_clusters):\n",
        "        clustered_df = df[df['cluster'] == n]\n",
        "        plt.scatter(clustered_df['ppg'], clustered_df['atr'], c=colors[n-1])\n",
        "        plt.xlabel('Points Per Game', fontsize=13)\n",
        "        plt.ylabel('Assist Turnover Ratio', fontsize=13)\n",
        "    plt.show()\n",
        "\n",
        "visualize_clusters(point_guards, 5)"
      ],
      "execution_count": 0,
      "outputs": [
        {
          "output_type": "display_data",
          "data": {
            "image/png": "[encoded data removed]",
            "text/plain": [
              "<matplotlib.figure.Figure at 0x7fbc316b0dd8>"
            ]
          },
          "metadata": {
            "tags": []
          }
        }
      ]
    },
    {
      "metadata": {
        "id": "i8nTN2N5TJ6d",
        "colab_type": "text"
      },
      "cell_type": "markdown",
      "source": [
        "### 2.7.6 Step 2\n"
      ]
    },
    {
      "metadata": {
        "id": "JrcrtlqpTsw6",
        "colab_type": "text"
      },
      "cell_type": "markdown",
      "source": [
        "How colorful! Now let's code Step 2, where we recalculate the centroids for each cluster."
      ]
    },
    {
      "metadata": {
        "id": "bkSorXa0T69o",
        "colab_type": "code",
        "colab": {}
      },
      "cell_type": "code",
      "source": [
        "def recalculate_centroids(df):\n",
        "    new_centroids_dict = dict()\n",
        "    \n",
        "    for cluster_id in range(0, num_clusters):\n",
        "        values_in_cluster = df[df['cluster'] == cluster_id]\n",
        "        # Calculate new centroid using mean of values in the cluster\n",
        "        new_centroid = [np.average(values_in_cluster['ppg']), \n",
        "                        np.average(values_in_cluster['atr'])]\n",
        "        new_centroids_dict[cluster_id] = new_centroid\n",
        "    return new_centroids_dict\n",
        "\n",
        "centroids_dict = recalculate_centroids(point_guards)"
      ],
      "execution_count": 0,
      "outputs": []
    },
    {
      "metadata": {
        "id": "NnTDro0uUU7r",
        "colab_type": "text"
      },
      "cell_type": "markdown",
      "source": [
        "### 2.7.7 Repeat Step 1"
      ]
    },
    {
      "metadata": {
        "id": "SNx1pxJCUdGm",
        "colab_type": "text"
      },
      "cell_type": "markdown",
      "source": [
        "Now that we recalculated the centroids, let's re-run Step 1 (**assign_to_cluster**) and see how the clusters shifted.\n",
        "\n"
      ]
    },
    {
      "metadata": {
        "id": "ynRCOD5AUwXL",
        "colab_type": "code",
        "outputId": "2e6decf4-e4de-4958-d183-1bf16450ef0a",
        "colab": {
          "base_uri": "https://localhost:8080/",
          "height": 363
        }
      },
      "cell_type": "code",
      "source": [
        "point_guards['cluster'] = point_guards.apply(lambda row: assign_to_cluster(row), axis=1)\n",
        "visualize_clusters(point_guards, num_clusters)\n"
      ],
      "execution_count": 0,
      "outputs": [
        {
          "output_type": "display_data",
          "data": {
            "image/png": "[encoded data removed]",
            "text/plain": [
              "<matplotlib.figure.Figure at 0x7fbc314b14e0>"
            ]
          },
          "metadata": {
            "tags": []
          }
        }
      ]
    },
    {
      "metadata": {
        "id": "C81h3C8_U-xT",
        "colab_type": "text"
      },
      "cell_type": "markdown",
      "source": [
        "### 2.7.8 Repeat Step 2 and Step 1"
      ]
    },
    {
      "metadata": {
        "id": "f24o4ebmVKrn",
        "colab_type": "text"
      },
      "cell_type": "markdown",
      "source": [
        "Now we need to recalculate the centroids, and shift the clusters again.\n",
        "\n"
      ]
    },
    {
      "metadata": {
        "id": "XboNtKTUVPJS",
        "colab_type": "code",
        "outputId": "6214d2b7-a1c7-4c20-f1f8-637e44598570",
        "colab": {
          "base_uri": "https://localhost:8080/",
          "height": 363
        }
      },
      "cell_type": "code",
      "source": [
        "centroids_dict = recalculate_centroids(point_guards)\n",
        "point_guards['cluster'] = point_guards.apply(lambda row: assign_to_cluster(row), axis=1)\n",
        "visualize_clusters(point_guards, num_clusters)\n"
      ],
      "execution_count": 0,
      "outputs": [
        {
          "output_type": "display_data",
          "data": {
            "image/png": "[encoded data removed]",
            "text/plain": [
              "<matplotlib.figure.Figure at 0x7fbc31422198>"
            ]
          },
          "metadata": {
            "tags": []
          }
        }
      ]
    },
    {
      "metadata": {
        "id": "P5ieJI0ZVT9M",
        "colab_type": "text"
      },
      "cell_type": "markdown",
      "source": [
        "## 2.8 Challenges of K-Means"
      ]
    },
    {
      "metadata": {
        "id": "5Em_UqnlVe8c",
        "colab_type": "text"
      },
      "cell_type": "markdown",
      "source": [
        "As you repeat Steps 1 and 2 and run **visualize_clusters**, you'll notice that a few of the points are changing clusters between every iteration (especially in areas where 2 clusters almost overlap), but otherwise, the clusters visually look like they don't move a lot after every iteration. This means 2 things:\n",
        "\n",
        "- K-Means doesn't cause massive changes in the makeup of clusters between iterations, meaning that it will always converge and become stable\n",
        "- Because K-Means is conservative between iterations, where we pick the initial centroids and how we assign the players to clusters initially matters a lot\n",
        "\n",
        "To counteract these problems, the **sklearn** implementation of K-Means does some intelligent things like re-running the entire clustering process lots of times with random initial centroids so the final results are a little less biased on one passthrough's initial centroids."
      ]
    },
    {
      "metadata": {
        "id": "h7gw4TYDV03u",
        "colab_type": "code",
        "outputId": "e3fd1bbc-02a6-43cb-ebd7-deb407a64f27",
        "colab": {
          "base_uri": "https://localhost:8080/",
          "height": 363
        }
      },
      "cell_type": "code",
      "source": [
        "from sklearn.cluster import KMeans\n",
        "\n",
        "kmeans = KMeans(n_clusters=num_clusters)\n",
        "kmeans.fit(point_guards[['ppg', 'atr']])\n",
        "point_guards['cluster'] = kmeans.labels_\n",
        "\n",
        "visualize_clusters(point_guards, num_clusters)\n"
      ],
      "execution_count": 0,
      "outputs": [
        {
          "output_type": "display_data",
          "data": {
            "image/png": "[encoded data removed]",
            "text/plain": [
              "<matplotlib.figure.Figure at 0x7fbc3147cda0>"
            ]
          },
          "metadata": {
            "tags": []
          }
        }
      ]
    },
    {
      "metadata": {
        "id": "ptRHMvHrWfGz",
        "colab_type": "text"
      },
      "cell_type": "markdown",
      "source": [
        "## 2.9 Conclusion"
      ]
    },
    {
      "metadata": {
        "id": "QgpOK51SYn6G",
        "colab_type": "text"
      },
      "cell_type": "markdown",
      "source": [
        "In this lesson, we explored how to segment NBA players into groups with similar traits. Our exploration helped us get a sense of the 5 types of point guards as based on each player's Assist Turnover Ratio and Points Per Game. In future challenges, you can explore how to cluster using many more features, as well as alternative ways of clustering data without using centroids.\n",
        "\n",
        "We also got to experience the beauty of sklearn and the simplicity of using sophisticated models to get what we need accomplished quickly. In just a few lines, we ran and visualized the results of a robust K-means clustering implementation. When using K-means in the real world, use the sklearn implementation."
      ]
    }
  ]
}